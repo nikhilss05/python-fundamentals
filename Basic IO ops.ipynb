{
 "cells": [
  {
   "cell_type": "code",
   "execution_count": null,
   "id": "d7553de2",
   "metadata": {},
   "outputs": [],
   "source": [
    "name=input(\"Enter Your name \")\n",
    "print (name)\n",
    "\n",
    "age=int(input(\"Enter your age \"))\n",
    "print(age)\n",
    "\n",
    "print (\"Your name is \",name,\"and age is \",age )"
   ]
  },
  {
   "cell_type": "code",
   "execution_count": 2,
   "id": "0f655db9",
   "metadata": {},
   "outputs": [
    {
     "name": "stdout",
     "output_type": "stream",
     "text": [
      "Area of shape calulator\n",
      "Select Shape\n",
      " 1. Rectangle \n",
      " 2. Square \n",
      " 3. Circle\n",
      "Enter Shape code2\n",
      "Enter side4\n",
      "16  is the area of square\n"
     ]
    }
   ],
   "source": [
    "#calculates area of desired shape\n",
    "\n",
    "print(\"Area of shape calulator\")\n",
    "print(\"Select Shape\")\n",
    "print(\" 1. Rectangle \\n 2. Square \\n 3. Circle\")\n",
    "shape=int(input(\"Enter Shape code\"))\n",
    "if shape == 1:\n",
    "    l=int(input(\"Enter lenght\"))\n",
    "    w=int(input(\"Enter width\"))\n",
    "    print(w*l, \" is the area of rectangle\")\n",
    "elif shape == 2:\n",
    "          a= int(input(\"Enter side\"))\n",
    "          print(a*a,\" is the area of square\")\n",
    "\n"
   ]
  },
  {
   "cell_type": "code",
   "execution_count": 1,
   "id": "7755d8e4",
   "metadata": {},
   "outputs": [
    {
     "name": "stdout",
     "output_type": "stream",
     "text": [
      "Enter body weight (in kg)68\n",
      "Enter height in m1.78\n",
      "your bmi is 21.461936624163616\n"
     ]
    }
   ],
   "source": [
    "# bmi calulator\n",
    "\n",
    "mass=float(input(\"Enter body weight (in kg)\"))\n",
    "height=float(input(\"Enter height in m\"))\n",
    "\n",
    "bmi= mass/(height*height)\n",
    "\n",
    "print(\"your bmi is\", bmi)"
   ]
  },
  {
   "cell_type": "code",
   "execution_count": 1,
   "id": "70255128",
   "metadata": {},
   "outputs": [
    {
     "name": "stdout",
     "output_type": "stream",
     "text": [
      "Enter 1st no.1\n",
      "Enter 2nd no.2\n",
      "Numbers b4 swaping 1 2\n",
      "After swapping 2 1\n"
     ]
    }
   ],
   "source": [
    "# swap numbers\n",
    "\n",
    "n1=int(input(\"Enter 1st no.\"))\n",
    "n2=int(input(\"Enter 2nd no.\"))\n",
    "\n",
    "print(\"Numbers b4 swaping\",n1,n2)\n",
    "\n",
    "n1,n2=n2,n1\n",
    "\n",
    "print(\"After swapping\",n1,n2)"
   ]
  },
  {
   "cell_type": "code",
   "execution_count": 1,
   "id": "be1aeb26",
   "metadata": {},
   "outputs": [
    {
     "ename": "SyntaxError",
     "evalue": "unterminated string literal (detected at line 10) (2622108735.py, line 10)",
     "output_type": "error",
     "traceback": [
      "\u001b[0;36m  Cell \u001b[0;32mIn[1], line 10\u001b[0;36m\u001b[0m\n\u001b[0;31m    print(\"\\\"Yes,\\\"he said.\"\")\u001b[0m\n\u001b[0m                            ^\u001b[0m\n\u001b[0;31mSyntaxError\u001b[0m\u001b[0;31m:\u001b[0m unterminated string literal (detected at line 10)\n"
     ]
    }
   ],
   "source": [
    "#What would be the output?\n",
    "#print('doesn\\'t')\n",
    "#print(\"doesn\\'t'\")\n",
    "#print('\"Yes\", he said.')\n",
    "#print(\"\\\"Yes,\\\"he said.\"\")\n",
    "\n",
    "print('doesn\\'t')\n",
    "print(\"doesn\\'t'\")\n",
    "print('\"Yes\", he said.')\n",
    "print(\"\\\"Yes,\\\"he said.\"\")"
   ]
  },
  {
   "cell_type": "code",
   "execution_count": 2,
   "id": "ce4ac1e8",
   "metadata": {},
   "outputs": [
    {
     "name": "stdout",
     "output_type": "stream",
     "text": [
      "This should work ig\n"
     ]
    }
   ],
   "source": [
    "'''\n",
    "this is a test for multiline comment\n",
    "\n",
    "'''\n",
    "\n",
    "print(\"This should work ig\")"
   ]
  },
  {
   "cell_type": "code",
   "execution_count": 4,
   "id": "91bb61a3",
   "metadata": {},
   "outputs": [
    {
     "name": "stdout",
     "output_type": "stream",
     "text": [
      "5\n",
      "10\n",
      "9\n"
     ]
    }
   ],
   "source": [
    "#assigning question\n",
    "x=5\n",
    "y=x*2\n",
    "z=y-1\n",
    "print(x)\n",
    "print(y)\n",
    "print(z)"
   ]
  },
  {
   "cell_type": "code",
   "execution_count": null,
   "id": "e167b98b",
   "metadata": {},
   "outputs": [],
   "source": [
    "# cm to ft convertor\n",
    "\n",
    "cm=int(input(\"Enter value in cm\"))\n",
    "inch=cm/2.54\n",
    "ft=12*inch\n",
    "print(\"Value in feet is \",ft)"
   ]
  },
  {
   "cell_type": "code",
   "execution_count": null,
   "id": "4b7beadf",
   "metadata": {},
   "outputs": [],
   "source": []
  },
  {
   "cell_type": "code",
   "execution_count": null,
   "id": "15f05207",
   "metadata": {},
   "outputs": [],
   "source": []
  }
 ],
 "metadata": {
  "kernelspec": {
   "display_name": "Python 3 (ipykernel)",
   "language": "python",
   "name": "python3"
  },
  "language_info": {
   "codemirror_mode": {
    "name": "ipython",
    "version": 3
   },
   "file_extension": ".py",
   "mimetype": "text/x-python",
   "name": "python",
   "nbconvert_exporter": "python",
   "pygments_lexer": "ipython3",
   "version": "3.11.3"
  }
 },
 "nbformat": 4,
 "nbformat_minor": 5
}
