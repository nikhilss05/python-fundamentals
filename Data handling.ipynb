{
 "cells": [
  {
   "cell_type": "code",
   "execution_count": 5,
   "id": "f4c92e1b",
   "metadata": {},
   "outputs": [
    {
     "name": "stdout",
     "output_type": "stream",
     "text": [
      "(1, 2, 3, 4, 5)\n",
      "[1, 2, 3, 4, 5]\n"
     ]
    },
    {
     "data": {
      "text/plain": [
       "[9, 2, 3, 4, 5]"
      ]
     },
     "execution_count": 5,
     "metadata": {},
     "output_type": "execute_result"
    }
   ],
   "source": [
    "lst=[1,2,3,4,5]\n",
    "tup=(1,2,3,4,5)\n",
    "\n",
    "print(tup)\n",
    "print(lst)\n",
    "\n",
    "lst[0]=9\n",
    "\n",
    "lst\n",
    "\n"
   ]
  },
  {
   "cell_type": "code",
   "execution_count": 6,
   "id": "f0388110",
   "metadata": {},
   "outputs": [
    {
     "ename": "TypeError",
     "evalue": "'tuple' object does not support item assignment",
     "output_type": "error",
     "traceback": [
      "\u001b[0;31m---------------------------------------------------------------------------\u001b[0m",
      "\u001b[0;31mTypeError\u001b[0m                                 Traceback (most recent call last)",
      "Cell \u001b[0;32mIn[6], line 1\u001b[0m\n\u001b[0;32m----> 1\u001b[0m tup[\u001b[38;5;241m0\u001b[39m]\u001b[38;5;241m=\u001b[39m\u001b[38;5;241m9\u001b[39m\n\u001b[1;32m      3\u001b[0m tup\n",
      "\u001b[0;31mTypeError\u001b[0m: 'tuple' object does not support item assignment"
     ]
    }
   ],
   "source": [
    "tup[0]=9\n",
    "\n",
    "tup\n",
    "\n",
    "#tuples are immutable\n",
    "#sets, list and dictionaries are mutable\n",
    "\n",
    "#set cannot contain mutable elements but itself can have its values changed\n"
   ]
  },
  {
   "cell_type": "code",
   "execution_count": 7,
   "id": "53e6809b",
   "metadata": {},
   "outputs": [
    {
     "name": "stdout",
     "output_type": "stream",
     "text": [
      "{1, 2, 3}\n"
     ]
    }
   ],
   "source": [
    "set1={1,2,3,3}\n",
    "print(sets)\n"
   ]
  },
  {
   "cell_type": "code",
   "execution_count": 8,
   "id": "ae474a43",
   "metadata": {},
   "outputs": [
    {
     "ename": "TypeError",
     "evalue": "unhashable type: 'list'",
     "output_type": "error",
     "traceback": [
      "\u001b[0;31m---------------------------------------------------------------------------\u001b[0m",
      "\u001b[0;31mTypeError\u001b[0m                                 Traceback (most recent call last)",
      "Cell \u001b[0;32mIn[8], line 1\u001b[0m\n\u001b[0;32m----> 1\u001b[0m set2\u001b[38;5;241m=\u001b[39m{\u001b[38;5;241m1\u001b[39m,[\u001b[38;5;241m1\u001b[39m,\u001b[38;5;241m2\u001b[39m]}\n\u001b[1;32m      2\u001b[0m set2\n",
      "\u001b[0;31mTypeError\u001b[0m: unhashable type: 'list'"
     ]
    }
   ],
   "source": [
    "set2={1,[1,2]}\n",
    "set2"
   ]
  },
  {
   "cell_type": "code",
   "execution_count": 1,
   "id": "099a1dab",
   "metadata": {},
   "outputs": [
    {
     "data": {
      "text/plain": [
       "{5, 6, 7, 8, 9}"
      ]
     },
     "execution_count": 1,
     "metadata": {},
     "output_type": "execute_result"
    }
   ],
   "source": [
    "set3={5,8,6,7,9}\n",
    "set3"
   ]
  },
  {
   "cell_type": "code",
   "execution_count": 3,
   "id": "95e22219",
   "metadata": {},
   "outputs": [
    {
     "data": {
      "text/plain": [
       "1"
      ]
     },
     "execution_count": 3,
     "metadata": {},
     "output_type": "execute_result"
    }
   ],
   "source": [
    "dic1={'a':1,'b':2}\n",
    "dic1['a']"
   ]
  },
  {
   "cell_type": "code",
   "execution_count": null,
   "id": "b229166a",
   "metadata": {},
   "outputs": [],
   "source": [
    "print(\"HelLo VS code\")"
   ]
  },
  {
   "cell_type": "code",
   "execution_count": null,
   "id": "a34b0d59",
   "metadata": {},
   "outputs": [],
   "source": []
  },
  {
   "cell_type": "markdown",
   "id": "94ed3234",
   "metadata": {},
   "source": [
    "# Standard Library Modules"
   ]
  },
  {
   "cell_type": "code",
   "execution_count": 1,
   "id": "8a2e45ae",
   "metadata": {},
   "outputs": [],
   "source": [
    "# math module"
   ]
  },
  {
   "cell_type": "code",
   "execution_count": 10,
   "id": "2766bcf2",
   "metadata": {},
   "outputs": [
    {
     "name": "stdout",
     "output_type": "stream",
     "text": [
      "Area of sphere is  176.71458676442586\n",
      "Volume of sphere is  5301.437602932776\n"
     ]
    }
   ],
   "source": [
    "#Q) The radius of a sphere is 7.5m. Write a code to calculate area and volume of the sphere.\n",
    "\n",
    "import math\n",
    "\n",
    "r = 7.5\n",
    "\n",
    "area = math.pi*r**2\n",
    "\n",
    "volume = 4*math.pi*math.pow(r,3)\n",
    "\n",
    "print(\"Area of sphere is \",area)\n",
    "\n",
    "print(\"Volume of sphere is \",volume)\n",
    "\n"
   ]
  },
  {
   "cell_type": "code",
   "execution_count": 15,
   "id": "06589839",
   "metadata": {},
   "outputs": [
    {
     "name": "stdout",
     "output_type": "stream",
     "text": [
      "0.2153345860365926\n",
      "31\n",
      "98\n",
      "32\n",
      "44\n"
     ]
    }
   ],
   "source": [
    "# random module\n",
    "\n",
    "import random\n",
    "\n",
    "a = random.random()\n",
    "b = random.randint(1,100)\n",
    "c = random.randrange(100)\n",
    "d = random.randrange(11,45)\n",
    "e = random.randrange(10,100,2)\n",
    "\n",
    "print(a)\n",
    "print(b)\n",
    "print(c)\n",
    "print(d)\n",
    "print(e)\n",
    "\n",
    "\n",
    "\n"
   ]
  },
  {
   "cell_type": "code",
   "execution_count": 16,
   "id": "cf7ed73e",
   "metadata": {},
   "outputs": [
    {
     "data": {
      "text/plain": [
       "1"
      ]
     },
     "execution_count": 16,
     "metadata": {},
     "output_type": "execute_result"
    }
   ],
   "source": [
    "import statistics\n",
    "\n",
    "lst = [1,2,3,4,5,6,7,8,9,0]\n",
    "\n",
    "statistics.mean(lst)\n",
    "statistics.median(lst)\n",
    "statistics.mode(lst)\n",
    "#python follows sequence to give output\n",
    "\n"
   ]
  },
  {
   "cell_type": "markdown",
   "id": "b19d55fd",
   "metadata": {},
   "source": [
    "# Operator precendence\n"
   ]
  },
  {
   "cell_type": "code",
   "execution_count": 17,
   "id": "1f15ac6a",
   "metadata": {},
   "outputs": [],
   "source": [
    "#()\n",
    "#**\n",
    "#*\n",
    "#/\n",
    "#//\n",
    "# %\n",
    "# + -\n",
    "#bitwise ops\n",
    "#Relational ops\n",
    "#Bool ops"
   ]
  },
  {
   "cell_type": "markdown",
   "id": "e05f59f3",
   "metadata": {},
   "source": [
    "# Data Handling Susmita Arora questions"
   ]
  },
  {
   "cell_type": "code",
   "execution_count": 18,
   "id": "9635d299",
   "metadata": {},
   "outputs": [
    {
     "name": "stdout",
     "output_type": "stream",
     "text": [
      "Choose conversion: 1)C to F ; 2) F to C1\n",
      "Enetr value in Celcius50\n",
      "The value in F is  122.0\n"
     ]
    }
   ],
   "source": [
    "# Farenheit to Celcius Converion and vice-versa\n",
    "\n",
    "value = int(input(\"Choose conversion: 1)C to F ; 2) F to C\"))\n",
    "\n",
    "if value == 1:\n",
    "    c= int(input (\"Enetr value in Celcius\"))\n",
    "    formula_1 = (c * (9/5)) + 32\n",
    "    print(\"The value in F is \", formula_1)\n",
    "else:\n",
    "    f= int(input(\"Enter value in Farenheit\"))\n",
    "    formula_2 = (f-32) * (5/9)\n",
    "    print(\"The value in Celcius is \", formula_2)\n",
    "    \n",
    "    "
   ]
  },
  {
   "cell_type": "code",
   "execution_count": 23,
   "id": "06770dfc",
   "metadata": {},
   "outputs": [
    {
     "name": "stdout",
     "output_type": "stream",
     "text": [
      "Enter mass 8.95\n",
      "E=  80549999.99999999\n"
     ]
    }
   ],
   "source": [
    "#E = MC^2 formula\n",
    "\n",
    "import math\n",
    "m=float(input(\"Enter mass \"))\n",
    "c=3*math.pow(10,3)\n",
    "\n",
    "\n",
    "formula = m*c*c\n",
    "print(\"E= \", formula)\n",
    "\n"
   ]
  },
  {
   "cell_type": "code",
   "execution_count": null,
   "id": "f8eeaadf",
   "metadata": {},
   "outputs": [],
   "source": [
    "# degree to radian and radian to degree\n",
    "\n",
    "import math\n",
    "rad = math.radians\n",
    "deg = math.degrees"
   ]
  }
 ],
 "metadata": {
  "kernelspec": {
   "display_name": "Python 3 (ipykernel)",
   "language": "python",
   "name": "python3"
  },
  "language_info": {
   "codemirror_mode": {
    "name": "ipython",
    "version": 3
   },
   "file_extension": ".py",
   "mimetype": "text/x-python",
   "name": "python",
   "nbconvert_exporter": "python",
   "pygments_lexer": "ipython3",
   "version": "3.10.9"
  }
 },
 "nbformat": 4,
 "nbformat_minor": 5
}
